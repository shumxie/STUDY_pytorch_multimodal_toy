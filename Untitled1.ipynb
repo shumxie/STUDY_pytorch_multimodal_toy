{
 "cells": [
  {
   "cell_type": "code",
   "execution_count": 2,
   "id": "cc3c2566",
   "metadata": {},
   "outputs": [],
   "source": [
    "import numpy as np\n",
    "import torch\n",
    "import torch.nn as nn\n",
    "import torch.optim as optim"
   ]
  },
  {
   "cell_type": "code",
   "execution_count": 3,
   "id": "66c99c69",
   "metadata": {},
   "outputs": [],
   "source": [
    "#Creating toy data for test\n",
    "np.random.seed(0)\n",
    "X_text = np.random.rand(10, 10).astype(np.float32)\n",
    "X_num = np.random.rand(10, 1).astype(np.float32)\n",
    "y = np.random.randint(0, 2, size=(10, 1)).astype(np.float32)"
   ]
  },
  {
   "cell_type": "code",
   "execution_count": 4,
   "id": "2afe93c3",
   "metadata": {},
   "outputs": [],
   "source": [
    "#Convert to PyTorch tensors\n",
    "X_text = torch.from_numpy(X_text)\n",
    "X_num = torch.from_numpy(X_num)\n",
    "y = torch.from_numpy(y)"
   ]
  },
  {
   "cell_type": "code",
   "execution_count": 5,
   "id": "4647c971",
   "metadata": {},
   "outputs": [],
   "source": [
    "#Define model\n",
    "class MultimodalNet(nn.Module):\n",
    "    def __init__(self):\n",
    "        super(MultimodalNet, self).__init__()\n",
    "        self.text_branch = nn.Sequential(\n",
    "            nn.Linear(10, 8),\n",
    "            nn.ReLU()\n",
    "        )\n",
    "        self.num_branch = nn.Sequential(\n",
    "            nn.Linear(1, 4),\n",
    "            nn.ReLU()\n",
    "        )\n",
    "        self.combined = nn.Sequential(\n",
    "            nn.Linear(8 + 4, 8),\n",
    "            nn.ReLU(),\n",
    "            nn.Linear(8, 1),\n",
    "            nn.Sigmoid()\n",
    "        )\n",
    "    def forward(self, x_text, x_num):\n",
    "        text_out = self.text_branch(x_text)\n",
    "        num_out = self.num_branch(x_num)\n",
    "        x = torch.cat((text_out, num_out), dim=1)\n",
    "        return self.combined(x)\n"
   ]
  },
  {
   "cell_type": "code",
   "execution_count": 6,
   "id": "d29fe11e",
   "metadata": {},
   "outputs": [],
   "source": [
    "#Instantiate model, loss function, optimizer\n",
    "model = MultimodalNet()\n",
    "criterion = nn.BCELoss()\n",
    "optimizer = optim.Adam(model.parameters(), lr=0.01)"
   ]
  },
  {
   "cell_type": "code",
   "execution_count": 7,
   "id": "261a1021",
   "metadata": {},
   "outputs": [
    {
     "name": "stdout",
     "output_type": "stream",
     "text": [
      "Epoch [10/30], Loss: 0.6763\n",
      "Epoch [20/30], Loss: 0.6073\n",
      "Epoch [30/30], Loss: 0.4661\n"
     ]
    }
   ],
   "source": [
    "#Training\n",
    "for epoch in range(30):\n",
    "    optimizer.zero_grad()\n",
    "    outputs = model(X_text, X_num)\n",
    "    loss = criterion(outputs, y)\n",
    "    loss.backward()\n",
    "    optimizer.step()\n",
    "    if (epoch + 1) % 10 == 0:\n",
    "        print(f\"Epoch [{epoch+1}/30], Loss: {loss.item():.4f}\")"
   ]
  },
  {
   "cell_type": "code",
   "execution_count": 8,
   "id": "89f69d23",
   "metadata": {},
   "outputs": [
    {
     "name": "stdout",
     "output_type": "stream",
     "text": [
      "Accuracy: 0.90\n"
     ]
    }
   ],
   "source": [
    "#Evaluation\n",
    "with torch.no_grad():\n",
    "    preds = (model(X_text, X_num) > 0.5).float()\n",
    "    accuracy = (preds == y).float().mean()\n",
    "    print(f\"Accuracy: {accuracy.item():.2f}\")"
   ]
  },
  {
   "cell_type": "code",
   "execution_count": 9,
   "id": "2a34ad2e",
   "metadata": {},
   "outputs": [
    {
     "data": {
      "image/png": "[encoded data removed]",
      "text/plain": [
       "<Figure size 640x480 with 2 Axes>"
      ]
     },
     "metadata": {},
     "output_type": "display_data"
    }
   ],
   "source": [
    "#Visualise the confusion matrix\n",
    "import matplotlib.pyplot as plt\n",
    "from sklearn.metrics import confusion_matrix, ConfusionMatrixDisplay\n",
    "cm = confusion_matrix(y, preds)\n",
    "disp = ConfusionMatrixDisplay(confusion_matrix=cm)\n",
    "disp.plot()\n",
    "plt.title('Confusion Matrix')\n",
    "plt.show()"
   ]
  },
  {
   "cell_type": "code",
   "execution_count": null,
   "id": "5626a060",
   "metadata": {},
   "outputs": [],
   "source": []
  }
 ],
 "metadata": {
  "kernelspec": {
   "display_name": "Python 3 (ipykernel)",
   "language": "python",
   "name": "python3"
  },
  "language_info": {
   "codemirror_mode": {
    "name": "ipython",
    "version": 3
   },
   "file_extension": ".py",
   "mimetype": "text/x-python",
   "name": "python",
   "nbconvert_exporter": "python",
   "pygments_lexer": "ipython3",
   "version": "3.11.0"
  }
 },
 "nbformat": 4,
 "nbformat_minor": 5
}
